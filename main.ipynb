{
 "cells": [
  {
   "cell_type": "markdown",
   "metadata": {},
   "source": [
    "# LIGO Project\n",
    "## PyCBC GW Match"
   ]
  },
  {
   "cell_type": "code",
   "execution_count": 101,
   "metadata": {
    "ExecuteTime": {
     "end_time": "2018-11-12T00:01:22.215549Z",
     "start_time": "2018-11-12T00:01:22.181950Z"
    }
   },
   "outputs": [],
   "source": [
    "# Filter the LIGO .gwf data file using the pyCBC software package\n",
    "# Based on Alex Nitz's sample code\n",
    "# Some lines added by Hao Liu to parameterize the program and for outputs\n",
    "\n",
    "directory = 'Data/' # directory where the data files are located\n",
    "suffix = '_LOSC_4_V2-1126257414-4096' # suffix of the file name, not including \".gwf\"\n",
    "match_low_frequency_cutoff = 15 # low frequency cutoff for matching, normally chosen to be same as highpass_freq\n",
    "highpass_freq = 15 # frequency for the initial high pass (Hz)\n",
    "highpass_edge_cut_left = 16 # time domain left-side cutoff after initial high pass (in second)\n",
    "highpass_edge_cut_right = 16 # time domain right-side cutoff after initial high pass (in second)\n",
    "snr_edge_cut = 2 # length of edge-cut at both ends for max-SNR determination. 2016\n",
    "psd_segment_length = 16 # segment length for calculating the PSD by Welch's averaging\n",
    "\n",
    "import lal as _lal\n",
    "from pycbc.frame import read_frame\n",
    "from pycbc.filter import highpass\n",
    "from pycbc.psd import interpolate, inverse_spectrum_truncation\n",
    "from pycbc.types.timeseries import load_timeseries\n",
    "from pycbc.types.frequencyseries import load_frequencyseries\n",
    "from pycbc.types.timeseries import TimeSeries\n",
    "from pycbc.waveform import get_td_waveform\n",
    "from pycbc.filter import matched_filter\n",
    "from pycbc.waveform import apply_fseries_time_shift\n",
    "from pycbc.filter import sigma\n",
    "\n",
    "import numpy as np\n",
    "import matplotlib.mlab as mlab\n",
    "import matplotlib.pyplot as plt\n",
    "from scipy.signal import tukey\n",
    "from scipy.interpolate import interp1d\n",
    "from scipy.stats import skew, kurtosis\n",
    "from scipy.signal import butter, filtfilt"
   ]
  },
  {
   "cell_type": "code",
   "execution_count": 102,
   "metadata": {
    "ExecuteTime": {
     "end_time": "2018-11-12T00:01:38.305949Z",
     "start_time": "2018-11-12T00:01:22.594567Z"
    }
   },
   "outputs": [
    {
     "name": "stdout",
     "output_type": "stream",
     "text": [
      "Start to read and high-pass the data, will cut some edge after that.\n",
      " \n",
      "****************************************************\n",
      "H-file is: Data/H-H1_LOSC_4_V2-1126257414-4096.gwf\n",
      "H-file is from 1126259414 to 1126259510, duration: 96.0\n",
      "H-strain after high-pass is now from 1126259430 to 1126259494, duration: 64.0\n",
      " \n",
      "****************************************************\n",
      "L-file is: Data/L-L1_LOSC_4_V2-1126257414-4096.gwf\n",
      "L-file is from 1126259414 to 1126259510, duration: 96.0\n",
      "L-strain after high-pass is now from 1126259430 to 1126259494, duration: 64.0\n"
     ]
    }
   ],
   "source": [
    "print('Start to read and high-pass the data, will cut some edge after that.')\n",
    "\n",
    "t_slice = 96\n",
    "\n",
    "strain, strain_i, stilde = {}, {}, {}\n",
    "for ifo in ['H', 'L']:\n",
    "    # Read the detector data\n",
    "    fname = directory + '%s-%s1' % (ifo, ifo) + suffix + '.gwf'\n",
    "    channel_name = '%s1:LOSC-STRAIN'  % ifo\n",
    "    strain_i[ifo] = read_frame(fname, channel_name)\n",
    "    strain[ifo] = strain_i[ifo].time_slice(1126259462-t_slice/2,1126259462+t_slice/2)\n",
    "\n",
    "    print(' ')\n",
    "    print('****************************************************')\n",
    "    print(\"%s-file is: %s\" %(ifo, fname))\n",
    "    print(\"%s-file is from %s to %s, duration: %s\" \n",
    "        %(ifo, strain[ifo].start_time, strain[ifo].end_time, strain[ifo].duration) )\n",
    "\n",
    "    # save a copy of the unfiltered strain data to disk\n",
    "    #strain[ifo].numpy().tofile(directory + '%s-%s1' % (ifo, ifo) + suffix + '_unfilt.bin')\n",
    "\n",
    "    # Initial high pass to remove the strong low-frequency signal\n",
    "    #strain_i[ifo] = highpass(strain_i[ifo], highpass_freq) \n",
    "    strain[ifo] = highpass(strain[ifo], highpass_freq)\n",
    "\n",
    "    # Edge-cut to remove time corrupted by the high pass filter\n",
    "    #strain_i[ifo] = strain_i[ifo].crop(highpass_edge_cut_left, highpass_edge_cut_right)\n",
    "    strain[ifo] = strain[ifo].crop(highpass_edge_cut_left, highpass_edge_cut_right)\n",
    "\n",
    "    # Print some information\n",
    "    print(\"%s-strain after high-pass is now from %s to %s, duration: %s\" \n",
    "        %(ifo, strain[ifo].start_time, strain[ifo].end_time, strain[ifo].duration) )\n",
    "\n",
    "    # Also create a frequency domain version of the data\n",
    "    stilde[ifo] = strain[ifo].to_frequencyseries()"
   ]
  },
  {
   "cell_type": "code",
   "execution_count": 103,
   "metadata": {
    "ExecuteTime": {
     "end_time": "2018-11-12T00:01:41.560430Z",
     "start_time": "2018-11-12T00:01:38.357035Z"
    }
   },
   "outputs": [
    {
     "name": "stdout",
     "output_type": "stream",
     "text": [
      "Calculate the PSD from cut strain...\n",
      "Using LOSC method.\n",
      "PSD ready.\n"
     ]
    }
   ],
   "source": [
    "print('Calculate the PSD from cut strain...')\n",
    "\n",
    "psd_method = \"losc\"\n",
    "psds = {}\n",
    "\n",
    "if psd_method == \"pycbc\":\n",
    "    print('Using PyCBC method.')\n",
    "else:\n",
    "    print('Using LOSC method.')\n",
    "\n",
    "for ifo in ['H', 'L']:\n",
    "    \n",
    "    if psd_method == \"pycbc\":\n",
    "        # Calculate the PSD by a Welch-style estimator (with the pyCBC timeseries.psd() method)\n",
    "        # Then interpolate the PSD to the desired frequency step.\n",
    "        \n",
    "        psds[ifo] = interpolate(strain[ifo].psd(int(psd_segment_length)), stilde[ifo].delta_f)\n",
    "        \n",
    "        # Smooth to the desired corruption length\n",
    "        psds[ifo] = inverse_spectrum_truncation(psds[ifo], \n",
    "                                                psd_segment_length * strain[ifo].sample_rate,\n",
    "                                                low_frequency_cutoff=highpass_freq,\n",
    "                                                trunc_method='hann')\n",
    "        \n",
    "        # Whiten strain\n",
    "        strain[ifo] = (stilde[ifo] / psds[ifo]**0.5 ).to_timeseries()\n",
    "        #strain[ifo].save('Results/'+'%s' % (ifo) + '_STRAIN_PYCBC.npy')\n",
    "    \n",
    "    elif psd_method == \"losc\":\n",
    "        # Calculate the PSD by a Welch-style estimator (with the mlab.psd() function)\n",
    "        # Then interpolate, using numpy's interp function, to the desired frequency step.\n",
    "        \n",
    "        fs = strain[ifo].sample_rate\n",
    "        NFFT = 4*fs\n",
    "        psd_window = np.blackman(NFFT)\n",
    "        NOVL = NFFT/2\n",
    "        \n",
    "        Pxx, freqs = mlab.psd(strain[ifo], Fs = fs, NFFT = NFFT, window=psd_window, noverlap=NOVL)\n",
    "        datafreqs = stilde[ifo].sample_frequencies\n",
    "        psd_tmp = np.interp(datafreqs, freqs, Pxx)\n",
    "        \n",
    "        \n",
    "        np.save('Results/'+'%s' %(ifo) + '_PSD_LOSC.npy',np.column_stack((datafreqs,psd_tmp)))\n",
    "    \n",
    "        psds[ifo] = load_frequencyseries('Results/'+'%s' % (ifo) + '_PSD_LOSC.npy')\n",
    "        \n",
    "        strain[ifo] = (stilde[ifo] / psds[ifo]**0.5 ).to_timeseries()\n",
    "        \n",
    "        #strain[ifo].save('Results/'+'%s' % (ifo) + '_STRAIN_LOSC.npy')\n",
    "        #stilde[ifo].save('Results/'+'%s' % (ifo) + '_FREQSS_LOSC.npy')\n",
    "\n",
    "print('PSD ready.')"
   ]
  },
  {
   "cell_type": "code",
   "execution_count": 104,
   "metadata": {
    "ExecuteTime": {
     "end_time": "2018-11-12T00:01:42.237009Z",
     "start_time": "2018-11-12T00:01:41.595186Z"
    }
   },
   "outputs": [
    {
     "name": "stdout",
     "output_type": "stream",
     "text": [
      "Start matching: \n",
      " \n",
      "****************************************************\n",
      "H: Consider SNR only from 1126259432 to 1126259492, duration: 60.0\n",
      "H-SNR: 19.41861457384273\n",
      "H-time: 1126259461.0078125\n",
      "H-phase: 2.259860844987864\n",
      " \n",
      "****************************************************\n",
      "L: Consider SNR only from 1126259432 to 1126259492, duration: 60.0\n",
      "L-SNR: 13.46008298327633\n",
      "L-time: 1126259461.000732422\n",
      "L-phase: -0.6555751192325359\n",
      "network SNR: 23.62745068525469\n"
     ]
    }
   ],
   "source": [
    "print('Start matching: ')\n",
    "\n",
    "hp, hc = get_td_waveform(   approximant=\"SEOBNRv4\", \n",
    "                            mass1=41.743, mass2=29.237, \n",
    "                            spin1z = 0.355,      spin2z = -0.769, \n",
    "                            f_lower=match_low_frequency_cutoff, delta_t = strain[ifo].delta_t)\n",
    "\n",
    "hp.append_zeros(800)\n",
    "hc.append_zeros(800)\n",
    "\n",
    "window = tukey(len(hp), alpha=0.3)\n",
    "hp._data = hp._data*window\n",
    "hp.resize(len(strain[ifo]))\n",
    "\n",
    "hp = hp.to_frequencyseries(delta_f=stilde[ifo].delta_f)\n",
    "\n",
    "max_snr, max_time, max_phase = {}, {}, {}\n",
    "for ifo in ['H', 'L']:\n",
    "    snr = matched_filter(hp, stilde[ifo], psd=psds[ifo], low_frequency_cutoff=match_low_frequency_cutoff)\n",
    "    snr = snr.crop(snr_edge_cut, snr_edge_cut)\n",
    "    \n",
    "    _, idx = snr.abs_max_loc()\n",
    "      \n",
    "    # The complex SNR at the peak\n",
    "    max_snr[ifo] = snr[idx]\n",
    "        \n",
    "    # The time of the peak\n",
    "    max_time[ifo] = float(idx) / snr.sample_rate + snr.start_time\n",
    "    max_phase[ifo] = np.angle(max_snr[ifo])\n",
    "\n",
    "    print(' ')\n",
    "    print('****************************************************')\n",
    "    print('%s: Consider SNR only from %s to %s, duration: %s' %(ifo, snr.start_time, snr.end_time, snr.duration))\n",
    "    print('%s-SNR: %s'   %(ifo, np.absolute(max_snr[ifo])))\n",
    "    print('%s-time: %s'  %(ifo, max_time[ifo]))\n",
    "    print('%s-phase: %s' %(ifo, max_phase[ifo]))\n",
    "\n",
    "tmax, hmax, smax = max_time, hp, max_snr\n",
    "\n",
    "network_snr = (abs(np.array(max_snr.values())) ** 2.0).sum() ** 0.5\n",
    "print('network SNR: %s' %(network_snr))"
   ]
  },
  {
   "cell_type": "code",
   "execution_count": 105,
   "metadata": {
    "ExecuteTime": {
     "end_time": "2018-11-12T00:01:46.882673Z",
     "start_time": "2018-11-12T00:01:42.278084Z"
    }
   },
   "outputs": [
    {
     "name": "stdout",
     "output_type": "stream",
     "text": [
      "H relative amplitude: 0.13069831058557527\n",
      "Bandpassing and slicing.\n",
      "L relative amplitude: 0.10485061770529915\n",
      "Bandpassing and slicing.\n"
     ]
    }
   ],
   "source": [
    "i_c = 16*4096\n",
    "nq = 4096./2.\n",
    "b, a = butter(4, [15./nq, 350./nq], btype = 'bandpass')\n",
    "wt, h = {}, {}\n",
    "for ifo in ['H', 'L']:\n",
    "    # Shift the template to the maximum time at this sample rate\n",
    "    dt =  tmax[ifo] - stilde[ifo].start_time\n",
    "    inj = apply_fseries_time_shift(hmax, dt)\n",
    "\n",
    "    # Scale the template to the SNR and phase\n",
    "    inj /= sigma(hmax, psd=psds[ifo], low_frequency_cutoff=match_low_frequency_cutoff)\n",
    "    inj *= smax[ifo]\n",
    "\n",
    "    amp1 = smax[ifo] / sigma(hmax, psd=psds[ifo], low_frequency_cutoff=match_low_frequency_cutoff)\n",
    "    amp1 = np.absolute(amp1)\n",
    "    print('%s relative amplitude: %s' %(ifo, amp1*100))\n",
    "\n",
    "    # Subtract from the data\n",
    "    stilde2 = stilde[ifo] - inj\n",
    "    stilde_tmp = stilde[ifo]\n",
    "    \n",
    "    # Whiten the data\n",
    "    hoft = (stilde2 / psds[ifo] ** 0.5).to_timeseries()\n",
    "    wh = (inj / psds[ifo] ** 0.5).to_timeseries()\n",
    "    \n",
    "    h[ifo] = wh\n",
    "    wt[ifo] = hoft\n",
    "    \n",
    "    print('Bandpassing and slicing.')\n",
    "    \n",
    "    strain[ifo] = filtfilt(b, a, strain[ifo])\n",
    "    wt[ifo] = filtfilt(b, a, wt[ifo])\n",
    "    h[ifo] = filtfilt(b, a, h[ifo])\n",
    "    \n",
    "    strain[ifo] = strain[ifo][i_c:-i_c]\n",
    "    wt[ifo] = wt[ifo][i_c:-i_c]\n",
    "    h[ifo] = h[ifo][i_c:-i_c]\n",
    "    \n",
    "    if psd_method == 'pycbc':\n",
    "        \n",
    "        # Save a copy of the strain to disk\n",
    "        np.save('Results/'+'%s' % (ifo) + '_STRAIN_PYCB.npy', strain[ifo])\n",
    "        \n",
    "        # save a copy of the residual strain to disk\n",
    "        np.save('Results/'+'%s' % (ifo) + '_RESIDUAL_PYCBC.npy', wt[ifo])\n",
    "        \n",
    "        # save a copy of the template to disk\n",
    "        np.save('Results/'+'%s' % (ifo) + '_TEMPLATE_PYCBC.npy', h[ifo])\n",
    "\n",
    "    elif psd_method =='losc':\n",
    "        \n",
    "        # Save a copy of the strain to disk\n",
    "        np.save('Results/'+'%s' % (ifo) + '_STRAIN_LOSC.npy', strain[ifo])\n",
    "        \n",
    "        # save a copy of the residual strain to disk\n",
    "        np.save('Results/'+'%s' % (ifo) + '_RESIDUAL_LOSC.npy', wt[ifo])\n",
    "        \n",
    "        # save a copy of the template to disk\n",
    "        np.save('Results/'+'%s' % (ifo) + '_TEMPLATE_LOSC.npy', h[ifo])\n",
    "\n",
    "# Save a copy of time\n",
    "t = np.arange(0,len(strain['H'])/4096.,1./4096.)\n",
    "np.save('Results/sample_times.npy', t)"
   ]
  },
  {
   "cell_type": "code",
   "execution_count": null,
   "metadata": {},
   "outputs": [],
   "source": []
  }
 ],
 "metadata": {
  "kernelspec": {
   "display_name": "Python 2",
   "language": "python",
   "name": "python2"
  },
  "language_info": {
   "codemirror_mode": {
    "name": "ipython",
    "version": 2
   },
   "file_extension": ".py",
   "mimetype": "text/x-python",
   "name": "python",
   "nbconvert_exporter": "python",
   "pygments_lexer": "ipython2",
   "version": "2.7.15rc1"
  },
  "latex_envs": {
   "LaTeX_envs_menu_present": true,
   "autoclose": false,
   "autocomplete": true,
   "bibliofile": "biblio.bib",
   "cite_by": "apalike",
   "current_citInitial": 1,
   "eqLabelWithNumbers": true,
   "eqNumInitial": 1,
   "hotkeys": {
    "equation": "Ctrl-E",
    "itemize": "Ctrl-I"
   },
   "labels_anchors": false,
   "latex_user_defs": false,
   "report_style_numbering": false,
   "user_envs_cfg": false
  },
  "varInspector": {
   "cols": {
    "lenName": 16,
    "lenType": 16,
    "lenVar": 40
   },
   "kernels_config": {
    "python": {
     "delete_cmd_postfix": "",
     "delete_cmd_prefix": "del ",
     "library": "var_list.py",
     "varRefreshCmd": "print(var_dic_list())"
    },
    "r": {
     "delete_cmd_postfix": ") ",
     "delete_cmd_prefix": "rm(",
     "library": "var_list.r",
     "varRefreshCmd": "cat(var_dic_list()) "
    }
   },
   "types_to_exclude": [
    "module",
    "function",
    "builtin_function_or_method",
    "instance",
    "_Feature"
   ],
   "window_display": false
  }
 },
 "nbformat": 4,
 "nbformat_minor": 2
}
