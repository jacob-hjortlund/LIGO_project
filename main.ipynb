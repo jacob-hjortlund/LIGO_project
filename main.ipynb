{
 "cells": [
  {
   "cell_type": "markdown",
   "metadata": {},
   "source": [
    "# LIGO Project\n",
    "## PyCBC GW Match"
   ]
  },
  {
   "cell_type": "code",
   "execution_count": 1,
   "metadata": {
    "ExecuteTime": {
     "end_time": "2018-11-11T16:39:20.634044Z",
     "start_time": "2018-11-11T16:39:19.809207Z"
    }
   },
   "outputs": [
    {
     "name": "stderr",
     "output_type": "stream",
     "text": [
      "PyCBC.libutils: pkg-config call failed, setting NO_PKGCONFIG=1\n"
     ]
    }
   ],
   "source": [
    "# Filter the LIGO .gwf data file using the pyCBC software package\n",
    "# Based on Alex Nitz's sample code\n",
    "# Some lines added by Hao Liu to parameterize the program and for outputs\n",
    "\n",
    "directory = 'Data/' # directory where the data files are located\n",
    "suffix = '_LOSC_4_V2-1126257414-4096' # suffix of the file name, not including \".gwf\"\n",
    "match_low_frequency_cutoff = 15 # low frequency cutoff for matching, normally chosen to be same as highpass_freq\n",
    "highpass_freq = 15 # frequency for the initial high pass (Hz)\n",
    "highpass_edge_cut_left = 16 # time domain left-side cutoff after initial high pass (in second)\n",
    "highpass_edge_cut_right = 16 # time domain right-side cutoff after initial high pass (in second)\n",
    "snr_edge_cut = 2 # length of edge-cut at both ends for max-SNR determination. 2016\n",
    "psd_segment_length = 16 # segment length for calculating the PSD by Welch's averaging\n",
    "\n",
    "import lal as _lal\n",
    "from pycbc.frame import read_frame\n",
    "from pycbc.filter import highpass\n",
    "from pycbc.psd import interpolate, inverse_spectrum_truncation\n",
    "from pycbc.types.timeseries import load_timeseries\n",
    "from pycbc.types.frequencyseries import load_frequencyseries\n",
    "from pycbc.types.timeseries import TimeSeries\n",
    "\n",
    "import numpy as np\n",
    "import matplotlib.mlab as mlab\n",
    "import matplotlib.pyplot as plt\n",
    "from scipy.signal import tukey\n",
    "from scipy.interpolate import interp1d"
   ]
  },
  {
   "cell_type": "code",
   "execution_count": 2,
   "metadata": {
    "ExecuteTime": {
     "end_time": "2018-11-11T16:39:46.184261Z",
     "start_time": "2018-11-11T16:39:30.806496Z"
    }
   },
   "outputs": [
    {
     "name": "stdout",
     "output_type": "stream",
     "text": [
      "Start to read and high-pass the data, will cut some edge after that.\n",
      " \n",
      "****************************************************\n",
      "H-file is: Data/H-H1_LOSC_4_V2-1126257414-4096.gwf\n",
      "H-file is from 1126259414 to 1126259510, duration: 96.0\n",
      "H-strain after high-pass is now from 1126259430 to 1126259494, duration: 64.0\n",
      " \n",
      "****************************************************\n",
      "L-file is: Data/L-L1_LOSC_4_V2-1126257414-4096.gwf\n",
      "L-file is from 1126259414 to 1126259510, duration: 96.0\n",
      "L-strain after high-pass is now from 1126259430 to 1126259494, duration: 64.0\n"
     ]
    }
   ],
   "source": [
    "print('Start to read and high-pass the data, will cut some edge after that.')\n",
    "\n",
    "t_slice = 96\n",
    "\n",
    "strain, strain_i, stilde = {}, {}, {}\n",
    "for ifo in ['H', 'L']:\n",
    "    # Read the detector data\n",
    "    fname = directory + '%s-%s1' % (ifo, ifo) + suffix + '.gwf'\n",
    "    channel_name = '%s1:LOSC-STRAIN'  % ifo\n",
    "    strain_i[ifo] = read_frame(fname, channel_name)\n",
    "    strain[ifo] = strain_i[ifo].time_slice(1126259462-t_slice/2,1126259462+t_slice/2)\n",
    "\n",
    "    print(' ')\n",
    "    print('****************************************************')\n",
    "    print(\"%s-file is: %s\" %(ifo, fname))\n",
    "    print(\"%s-file is from %s to %s, duration: %s\" \n",
    "        %(ifo, strain[ifo].start_time, strain[ifo].end_time, strain[ifo].duration) )\n",
    "\n",
    "    # save a copy of the unfiltered strain data to disk\n",
    "    #strain[ifo].numpy().tofile(directory + '%s-%s1' % (ifo, ifo) + suffix + '_unfilt.bin')\n",
    "\n",
    "    # Initial high pass to remove the strong low-frequency signal\n",
    "    #strain_i[ifo] = highpass(strain_i[ifo], highpass_freq) \n",
    "    strain[ifo] = highpass(strain[ifo], highpass_freq)\n",
    "\n",
    "    # Edge-cut to remove time corrupted by the high pass filter\n",
    "    #strain_i[ifo] = strain_i[ifo].crop(highpass_edge_cut_left, highpass_edge_cut_right)\n",
    "    strain[ifo] = strain[ifo].crop(highpass_edge_cut_left, highpass_edge_cut_right)\n",
    "\n",
    "    # Print some information\n",
    "    print(\"%s-strain after high-pass is now from %s to %s, duration: %s\" \n",
    "        %(ifo, strain[ifo].start_time, strain[ifo].end_time, strain[ifo].duration) )\n",
    "\n",
    "    # Also create a frequency domain version of the data\n",
    "    stilde[ifo] = strain[ifo].to_frequencyseries()"
   ]
  },
  {
   "cell_type": "code",
   "execution_count": 3,
   "metadata": {
    "ExecuteTime": {
     "end_time": "2018-11-11T16:39:57.475683Z",
     "start_time": "2018-11-11T16:39:57.427597Z"
    }
   },
   "outputs": [
    {
     "name": "stdout",
     "output_type": "stream",
     "text": [
      "Calculate the PSD from cut strain...\n"
     ]
    },
    {
     "ename": "NameError",
     "evalue": "name 'xrange' is not defined",
     "output_type": "error",
     "traceback": [
      "\u001b[0;31m---------------------------------------------------------------------------\u001b[0m",
      "\u001b[0;31mNameError\u001b[0m                                 Traceback (most recent call last)",
      "\u001b[0;32m<ipython-input-3-2610bbfc9d85>\u001b[0m in \u001b[0;36m<module>\u001b[0;34m\u001b[0m\n\u001b[1;32m      9\u001b[0m         \u001b[0;31m# Then interpolate the PSD to the desired frequency step.\u001b[0m\u001b[0;34m\u001b[0m\u001b[0;34m\u001b[0m\u001b[0m\n\u001b[1;32m     10\u001b[0m \u001b[0;34m\u001b[0m\u001b[0m\n\u001b[0;32m---> 11\u001b[0;31m         \u001b[0mpsds\u001b[0m\u001b[0;34m[\u001b[0m\u001b[0mifo\u001b[0m\u001b[0;34m]\u001b[0m \u001b[0;34m=\u001b[0m \u001b[0minterpolate\u001b[0m\u001b[0;34m(\u001b[0m\u001b[0mstrain\u001b[0m\u001b[0;34m[\u001b[0m\u001b[0mifo\u001b[0m\u001b[0;34m]\u001b[0m\u001b[0;34m.\u001b[0m\u001b[0mpsd\u001b[0m\u001b[0;34m(\u001b[0m\u001b[0mint\u001b[0m\u001b[0;34m(\u001b[0m\u001b[0mpsd_segment_length\u001b[0m\u001b[0;34m)\u001b[0m\u001b[0;34m)\u001b[0m\u001b[0;34m,\u001b[0m \u001b[0mstilde\u001b[0m\u001b[0;34m[\u001b[0m\u001b[0mifo\u001b[0m\u001b[0;34m]\u001b[0m\u001b[0;34m.\u001b[0m\u001b[0mdelta_f\u001b[0m\u001b[0;34m)\u001b[0m\u001b[0;34m\u001b[0m\u001b[0m\n\u001b[0m\u001b[1;32m     12\u001b[0m         \u001b[0mprint\u001b[0m\u001b[0;34m(\u001b[0m\u001b[0mstilde\u001b[0m\u001b[0;34m[\u001b[0m\u001b[0mifo\u001b[0m\u001b[0;34m]\u001b[0m\u001b[0;34m.\u001b[0m\u001b[0mdelta_f\u001b[0m\u001b[0;34m)\u001b[0m\u001b[0;34m\u001b[0m\u001b[0m\n\u001b[1;32m     13\u001b[0m \u001b[0;34m\u001b[0m\u001b[0m\n",
      "\u001b[0;32m~/.local/lib/python3.6/site-packages/pycbc/types/timeseries.py\u001b[0m in \u001b[0;36mpsd\u001b[0;34m(self, segment_duration, **kwds)\u001b[0m\n\u001b[1;32m    454\u001b[0m         return welch(self, seg_len=seg_len,\n\u001b[1;32m    455\u001b[0m                            \u001b[0mseg_stride\u001b[0m\u001b[0;34m=\u001b[0m\u001b[0mseg_stride\u001b[0m\u001b[0;34m,\u001b[0m\u001b[0;34m\u001b[0m\u001b[0m\n\u001b[0;32m--> 456\u001b[0;31m                            **kwds)\n\u001b[0m\u001b[1;32m    457\u001b[0m \u001b[0;34m\u001b[0m\u001b[0m\n\u001b[1;32m    458\u001b[0m     def whiten(self, segment_duration, max_filter_duration, trunc_method='hann',\n",
      "\u001b[0;32m~/.local/lib/python3.6/site-packages/pycbc/psd/estimate.py\u001b[0m in \u001b[0;36mwelch\u001b[0;34m(timeseries, seg_len, seg_stride, window, avg_method, num_segments, require_exact_data_fit)\u001b[0m\n\u001b[1;32m    146\u001b[0m \u001b[0;34m\u001b[0m\u001b[0m\n\u001b[1;32m    147\u001b[0m     \u001b[0msegment_psds\u001b[0m \u001b[0;34m=\u001b[0m \u001b[0;34m[\u001b[0m\u001b[0;34m]\u001b[0m\u001b[0;34m\u001b[0m\u001b[0m\n\u001b[0;32m--> 148\u001b[0;31m     \u001b[0;32mfor\u001b[0m \u001b[0mi\u001b[0m \u001b[0;32min\u001b[0m \u001b[0mxrange\u001b[0m\u001b[0;34m(\u001b[0m\u001b[0mnum_segments\u001b[0m\u001b[0;34m)\u001b[0m\u001b[0;34m:\u001b[0m\u001b[0;34m\u001b[0m\u001b[0m\n\u001b[0m\u001b[1;32m    149\u001b[0m         \u001b[0msegment_start\u001b[0m \u001b[0;34m=\u001b[0m \u001b[0mi\u001b[0m \u001b[0;34m*\u001b[0m \u001b[0mseg_stride\u001b[0m\u001b[0;34m\u001b[0m\u001b[0m\n\u001b[1;32m    150\u001b[0m         \u001b[0msegment_end\u001b[0m \u001b[0;34m=\u001b[0m \u001b[0msegment_start\u001b[0m \u001b[0;34m+\u001b[0m \u001b[0mseg_len\u001b[0m\u001b[0;34m\u001b[0m\u001b[0m\n",
      "\u001b[0;31mNameError\u001b[0m: name 'xrange' is not defined"
     ]
    }
   ],
   "source": [
    "print('Calculate the PSD from cut strain...')\n",
    "\n",
    "psd_method = \"pycbc\"\n",
    "psds = {}\n",
    "for ifo in ['H', 'L']:\n",
    "    \n",
    "    if psd_method == \"pycbc\":\n",
    "        # Calculate the PSD by a Welch-style estimator (with the pyCBC timeseries.psd() method)\n",
    "        # Then interpolate the PSD to the desired frequency step.\n",
    "        \n",
    "        psds[ifo] = interpolate(strain[ifo].psd(int(psd_segment_length)), stilde[ifo].delta_f)\n",
    "        print(stilde[ifo].delta_f)\n",
    "        \n",
    "        # Smooth to the desired corruption length\n",
    "        psds[ifo] = inverse_spectrum_truncation(psds[ifo], \n",
    "                                                psd_segment_length * strain[ifo].sample_rate,\n",
    "                                                low_frequency_cutoff=highpass_freq,\n",
    "                                                trunc_method='hann')  \n",
    "    \n",
    "    elif psd_method == \"losc\":\n",
    "        # Calculate the PSD by a Welch-style estimator (with the mlab.psd() function)\n",
    "        # Then interpolate, using numpy's interp function, to the desired frequency step.\n",
    "        \n",
    "        fs = strain[ifo].sample_rate\n",
    "        NFFT = 4*fs\n",
    "        psd_window = np.blackman(NFFT)\n",
    "        NOVL = NFFT/2\n",
    "        \n",
    "        Pxx, freqs = mlab.psd(strain[ifo], Fs = fs, NFFT = NFFT, window=psd_window, noverlap=NOVL)\n",
    "        datafreqs = stilde[ifo].sample_frequencies\n",
    "        psd_tmp = np.interp(datafreqs, freqs, Pxx)\n",
    "        \n",
    "        \n",
    "        np.save('%s_TUT_PSD.npy' %(ifo),np.column_stack((datafreqs,psd_tmp)))\n",
    "    \n",
    "        psds[ifo] = load_frequencyseries('%s_TUT_PSD.npy' %(ifo))\n",
    "        \n",
    "        strain[ifo] = (stilde[ifo] / psds[ifo]**0.5 ).to_timeseries()\n",
    "        \n",
    "        strain[ifo].save(\"CC_test/%s_data.npy\" %(ifo))\n",
    "        stilde[ifo].save(\"CC_test/%s_freqseries.npy\" %(ifo))\n",
    "    \n",
    "    # save a copy of the filtered strain data to disk\n",
    "    #strain[ifo].numpy().tofile(directory + '%s-%s1' % (ifo, ifo) + suffix + '_filt.bin')\n",
    "\n",
    "print('PSD ready.')"
   ]
  },
  {
   "cell_type": "code",
   "execution_count": null,
   "metadata": {},
   "outputs": [],
   "source": []
  }
 ],
 "metadata": {
  "kernelspec": {
   "display_name": "Python 3",
   "language": "python",
   "name": "python3"
  },
  "language_info": {
   "codemirror_mode": {
    "name": "ipython",
    "version": 3
   },
   "file_extension": ".py",
   "mimetype": "text/x-python",
   "name": "python",
   "nbconvert_exporter": "python",
   "pygments_lexer": "ipython3",
   "version": "3.6.6"
  },
  "latex_envs": {
   "LaTeX_envs_menu_present": true,
   "autoclose": false,
   "autocomplete": true,
   "bibliofile": "biblio.bib",
   "cite_by": "apalike",
   "current_citInitial": 1,
   "eqLabelWithNumbers": true,
   "eqNumInitial": 1,
   "hotkeys": {
    "equation": "Ctrl-E",
    "itemize": "Ctrl-I"
   },
   "labels_anchors": false,
   "latex_user_defs": false,
   "report_style_numbering": false,
   "user_envs_cfg": false
  },
  "varInspector": {
   "cols": {
    "lenName": 16,
    "lenType": 16,
    "lenVar": 40
   },
   "kernels_config": {
    "python": {
     "delete_cmd_postfix": "",
     "delete_cmd_prefix": "del ",
     "library": "var_list.py",
     "varRefreshCmd": "print(var_dic_list())"
    },
    "r": {
     "delete_cmd_postfix": ") ",
     "delete_cmd_prefix": "rm(",
     "library": "var_list.r",
     "varRefreshCmd": "cat(var_dic_list()) "
    }
   },
   "types_to_exclude": [
    "module",
    "function",
    "builtin_function_or_method",
    "instance",
    "_Feature"
   ],
   "window_display": false
  }
 },
 "nbformat": 4,
 "nbformat_minor": 2
}
