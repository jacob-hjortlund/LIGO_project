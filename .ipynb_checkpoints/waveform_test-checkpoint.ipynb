{
 "cells": [
  {
   "cell_type": "markdown",
   "metadata": {},
   "source": [
    "## Raw data import from GWOSC"
   ]
  },
  {
   "cell_type": "code",
   "execution_count": 1,
   "metadata": {
    "ExecuteTime": {
     "end_time": "2019-07-22T12:35:37.622436Z",
     "start_time": "2019-07-22T12:35:37.432757Z"
    }
   },
   "outputs": [],
   "source": [
    "import pandas as pd\n",
    "import wget"
   ]
  },
  {
   "cell_type": "code",
   "execution_count": 42,
   "metadata": {
    "ExecuteTime": {
     "end_time": "2019-07-22T13:16:39.785390Z",
     "start_time": "2019-07-22T13:16:39.768633Z"
    }
   },
   "outputs": [],
   "source": [
    "ifo = ['H', 'L']\n",
    "no_segments = 5658\n",
    "t_start = 1164643217 # Start of O2 run is at GPS time 1164556817\n",
    "t_stop = t_start + no_segments*4096 # End of 02 run is at GPS time 1187733618, or 5658 4096 s segments."
   ]
  },
  {
   "cell_type": "code",
   "execution_count": 49,
   "metadata": {
    "ExecuteTime": {
     "end_time": "2019-07-22T13:38:45.459667Z",
     "start_time": "2019-07-22T13:35:28.237911Z"
    }
   },
   "outputs": [
    {
     "name": "stdout",
     "output_type": "stream",
     "text": [
      "https://www.gw-openscience.org/archive/links/O2_4KHZ_R1/H1/1164643217/1187818385/html/\n",
      "https://www.gw-openscience.org/archive/links/O2_4KHZ_R1/L1/1164643217/1187818385/html/\n"
     ]
    }
   ],
   "source": [
    "df = {}\n",
    "\n",
    "for i in ifo:\n",
    "\n",
    "    url = 'https://www.gw-openscience.org/archive/links/O2_4KHZ_R1/%s1/%s/%s/html/' %(i, t_start, t_stop)\n",
    "    print(url)\n",
    "\n",
    "    df_tmp = pd.read_html(url, header=1)[0]\n",
    "\n",
    "    # Ensuring data quality and no injections\n",
    "    DATA = df_tmp['DATA'] >= 100\n",
    "    CAT1 = df_tmp['CBC_CAT1'] == 100\n",
    "    CAT2 = df_tmp['CBC_CAT2'] == 100\n",
    "    CAT3 = df_tmp['CBC_CAT3'] == 100\n",
    "    NO_CBC = df_tmp['NO_CBC_HW_INJ'] == 100\n",
    "    NO_BURST = df_tmp['NO_BURST_HW_INJ'] == 100\n",
    "    NO_DET = df_tmp['NO_DETCHAR_HW_INJ'] == 100\n",
    "    index = DATA & CAT1 & CAT2 & CAT3 & NO_CBC & NO_BURST & NO_DET\n",
    "\n",
    "    df[i] = df_tmp[index]\n",
    "\n",
    "# Find data segments from both detectors that uphold quality requirements\n",
    "df_concat = pd.concat([df['H'], df['L']])\n",
    "df = df_concat[df_concat.duplicated()]"
   ]
  },
  {
   "cell_type": "code",
   "execution_count": 9,
   "metadata": {
    "ExecuteTime": {
     "end_time": "2019-07-22T12:47:01.315003Z",
     "start_time": "2019-07-22T12:47:01.291540Z"
    }
   },
   "outputs": [
    {
     "name": "stdout",
     "output_type": "stream",
     "text": [
      "<type 'int'>\n",
      "<type 'int'>\n",
      "<type 'int'>\n",
      "<type 'int'>\n",
      "<type 'int'>\n",
      "<type 'int'>\n",
      "<type 'int'>\n",
      "<type 'int'>\n",
      "<type 'int'>\n",
      "<type 'int'>\n",
      "<type 'int'>\n",
      "<type 'int'>\n",
      "<type 'int'>\n",
      "<type 'int'>\n",
      "<type 'int'>\n",
      "<type 'int'>\n",
      "<type 'int'>\n",
      "<type 'int'>\n",
      "<type 'int'>\n",
      "<type 'int'>\n",
      "<type 'int'>\n",
      "<type 'int'>\n",
      "<type 'int'>\n",
      "<type 'int'>\n",
      "<type 'int'>\n",
      "<type 'int'>\n",
      "<type 'int'>\n",
      "<type 'int'>\n",
      "<type 'int'>\n",
      "<type 'int'>\n",
      "<type 'int'>\n",
      "<type 'int'>\n",
      "<type 'int'>\n",
      "<type 'int'>\n",
      "<type 'int'>\n",
      "<type 'int'>\n",
      "<type 'int'>\n",
      "<type 'int'>\n",
      "<type 'int'>\n",
      "<type 'int'>\n",
      "<type 'int'>\n",
      "<type 'int'>\n",
      "<type 'int'>\n",
      "<type 'int'>\n",
      "<type 'int'>\n",
      "<type 'int'>\n",
      "<type 'int'>\n",
      "<type 'int'>\n",
      "<type 'int'>\n",
      "<type 'int'>\n",
      "<type 'int'>\n",
      "<type 'int'>\n",
      "<type 'int'>\n",
      "<type 'int'>\n",
      "<type 'int'>\n",
      "<type 'int'>\n",
      "<type 'int'>\n",
      "<type 'int'>\n",
      "<type 'int'>\n",
      "<type 'int'>\n",
      "<type 'int'>\n",
      "<type 'int'>\n",
      "<type 'int'>\n",
      "<type 'int'>\n",
      "<type 'int'>\n",
      "<type 'int'>\n",
      "<type 'int'>\n",
      "<type 'int'>\n",
      "<type 'int'>\n",
      "<type 'int'>\n",
      "<type 'int'>\n",
      "<type 'int'>\n",
      "<type 'int'>\n",
      "<type 'int'>\n",
      "<type 'int'>\n",
      "<type 'int'>\n",
      "<type 'int'>\n",
      "<type 'int'>\n",
      "<type 'int'>\n",
      "<type 'int'>\n",
      "<type 'int'>\n",
      "<type 'int'>\n",
      "<type 'int'>\n",
      "<type 'int'>\n",
      "<type 'int'>\n",
      "<type 'int'>\n",
      "<type 'int'>\n",
      "<type 'int'>\n",
      "<type 'int'>\n",
      "<type 'int'>\n",
      "<type 'int'>\n",
      "<type 'int'>\n",
      "<type 'int'>\n",
      "<type 'int'>\n"
     ]
    }
   ],
   "source": [
    "for i in df['Unnamed: 0']:\n",
    "    \n",
    "    time_stamp = str(i)\n",
    "    urlH = ('https://www.gw-openscience.org/archive/data/O2_4KHZ_R1/1163919360/H-H1_' +\n",
    "           'GWOSC_O2_4KHZ_R1-%s-4096.gwf'\n",
    "    urlL = ('https://www.gw-openscience.org/archive/data/O2_4KHZ_R1/1163919360/L-L1_' +\n",
    "           'GWOSC_O2_4KHZ_R1-%s-4096.gwf'\n",
    "    \n",
    "    wget.download(urlH, )"
   ]
  },
  {
   "cell_type": "code",
   "execution_count": null,
   "metadata": {},
   "outputs": [],
   "source": [
    "!wget "
   ]
  }
 ],
 "metadata": {
  "kernelspec": {
   "display_name": "Python 2",
   "language": "python",
   "name": "python2"
  },
  "language_info": {
   "codemirror_mode": {
    "name": "ipython",
    "version": 2
   },
   "file_extension": ".py",
   "mimetype": "text/x-python",
   "name": "python",
   "nbconvert_exporter": "python",
   "pygments_lexer": "ipython2",
   "version": "2.7.16"
  },
  "varInspector": {
   "cols": {
    "lenName": 16,
    "lenType": 16,
    "lenVar": 40
   },
   "kernels_config": {
    "python": {
     "delete_cmd_postfix": "",
     "delete_cmd_prefix": "del ",
     "library": "var_list.py",
     "varRefreshCmd": "print(var_dic_list())"
    },
    "r": {
     "delete_cmd_postfix": ") ",
     "delete_cmd_prefix": "rm(",
     "library": "var_list.r",
     "varRefreshCmd": "cat(var_dic_list()) "
    }
   },
   "types_to_exclude": [
    "module",
    "function",
    "builtin_function_or_method",
    "instance",
    "_Feature"
   ],
   "window_display": false
  }
 },
 "nbformat": 4,
 "nbformat_minor": 2
}
