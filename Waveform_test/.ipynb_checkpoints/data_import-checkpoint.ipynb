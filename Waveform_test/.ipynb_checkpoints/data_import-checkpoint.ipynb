{
 "cells": [
  {
   "cell_type": "markdown",
   "metadata": {},
   "source": [
    "## Raw data import from GWOSC"
   ]
  },
  {
   "cell_type": "code",
   "execution_count": 2,
   "metadata": {
    "ExecuteTime": {
     "end_time": "2019-07-22T15:20:52.950116Z",
     "start_time": "2019-07-22T15:20:52.317754Z"
    }
   },
   "outputs": [],
   "source": [
    "import pandas as pd\n",
    "import wget\n",
    "import os\n",
    "from pycbc.frame import read_frame"
   ]
  },
  {
   "cell_type": "code",
   "execution_count": 17,
   "metadata": {
    "ExecuteTime": {
     "end_time": "2019-07-22T20:36:18.423999Z",
     "start_time": "2019-07-22T20:36:18.415082Z"
    }
   },
   "outputs": [],
   "source": [
    "ifo = ['H', 'L']\n",
    "no_segments = 5658\n",
    "t_start = 1164643217 # Start of O2 run is at GPS time 1164556817\n",
    "t_stop = t_start + no_segments*4096 # End of 02 run is at GPS time 1187733618, or 5658 4096 s segments."
   ]
  },
  {
   "cell_type": "code",
   "execution_count": 92,
   "metadata": {
    "ExecuteTime": {
     "end_time": "2019-07-22T22:00:28.111979Z",
     "start_time": "2019-07-22T21:57:27.679950Z"
    }
   },
   "outputs": [
    {
     "name": "stdout",
     "output_type": "stream",
     "text": [
      "https://www.gw-openscience.org/archive/links/O2_4KHZ_R1/H1/1164643217/1187818385/html/\n",
      "https://www.gw-openscience.org/archive/links/O2_4KHZ_R1/L1/1164643217/1187818385/html/\n"
     ]
    }
   ],
   "source": [
    "df = {}\n",
    "\n",
    "for i in ifo:\n",
    "\n",
    "    url = 'https://www.gw-openscience.org/archive/links/O2_4KHZ_R1/%s1/%s/%s/html/' %(i, t_start, t_stop)\n",
    "    print(url)\n",
    "\n",
    "    df_tmp = pd.read_html(url, header=1)[0]\n",
    "\n",
    "    # Ensuring data quality and no injections\n",
    "    DATA = df_tmp['DATA'] >= 100\n",
    "    CAT1 = df_tmp['CBC_CAT1'] == 100\n",
    "    CAT2 = df_tmp['CBC_CAT2'] == 100\n",
    "    CAT3 = df_tmp['CBC_CAT3'] == 100\n",
    "    NO_CBC = df_tmp['NO_CBC_HW_INJ'] == 100\n",
    "    NO_BURST = df_tmp['NO_BURST_HW_INJ'] == 100\n",
    "    NO_DET = df_tmp['NO_DETCHAR_HW_INJ'] == 100\n",
    "    index = DATA & CAT1 & CAT2 & CAT3 & NO_CBC & NO_BURST & NO_DET\n",
    "\n",
    "    df[i] = df_tmp[index]\n",
    "    df[i] = df[i].reset_index(drop=True)\n",
    "\n",
    "# Find data segments from both detectors that uphold quality requirements\n",
    "df_concat = pd.concat([df['H'], df['L']])\n",
    "df_filtered = df_concat[df_concat.duplicated()]\n",
    "df_filtered = df_filtered.reset_index(drop=True)"
   ]
  },
  {
   "cell_type": "code",
   "execution_count": 10,
   "metadata": {
    "ExecuteTime": {
     "end_time": "2019-07-22T15:38:53.310436Z",
     "start_time": "2019-07-22T15:31:41.098316Z"
    }
   },
   "outputs": [],
   "source": [
    "for i in df_filtered['Unnamed: 0']:\n",
    "    \n",
    "    time_stamp = str(i)\n",
    "    urlH = ('https://www.gw-openscience.org/archive/data/O2_4KHZ_R1/1163919360/H-H1_' +\n",
    "           'GWOSC_O2_4KHZ_R1-%s-4096.gwf' %(i))\n",
    "    urlL = ('https://www.gw-openscience.org/archive/data/O2_4KHZ_R1/1163919360/L-L1_' +\n",
    "           'GWOSC_O2_4KHZ_R1-%s-4096.gwf' %(i))\n",
    "    \n",
    "    wget.download(urlH, 'Data/Raw_data')\n",
    "    wget.download(urlL, 'Data/Raw_data')"
   ]
  },
  {
   "cell_type": "code",
   "execution_count": 15,
   "metadata": {
    "ExecuteTime": {
     "end_time": "2019-07-22T20:22:30.080599Z",
     "start_time": "2019-07-22T20:22:29.990383Z"
    }
   },
   "outputs": [
    {
     "name": "stdout",
     "output_type": "stream",
     "text": [
      "Data/Raw_data/H-H1_GWOSC_O2_4KHZ_R1-1184165888-4096.gwf\n",
      "H1:GWOSC-4KHZ_R1_STRAIN\n"
     ]
    },
    {
     "ename": "RuntimeError",
     "evalue": "RETURN: untrapped XLAL error",
     "output_type": "error",
     "traceback": [
      "\u001b[0;31m---------------------------------------------------------------------------\u001b[0m",
      "\u001b[0;31mRuntimeError\u001b[0m                              Traceback (most recent call last)",
      "\u001b[0;32m<ipython-input-15-5707a06ebd09>\u001b[0m in \u001b[0;36m<module>\u001b[0;34m()\u001b[0m\n\u001b[1;32m     10\u001b[0m     \u001b[0;32mprint\u001b[0m\u001b[0;34m(\u001b[0m\u001b[0mfname\u001b[0m\u001b[0;34m)\u001b[0m\u001b[0;34m\u001b[0m\u001b[0m\n\u001b[1;32m     11\u001b[0m     \u001b[0;32mprint\u001b[0m\u001b[0;34m(\u001b[0m\u001b[0mchannel\u001b[0m\u001b[0;34m)\u001b[0m\u001b[0;34m\u001b[0m\u001b[0m\n\u001b[0;32m---> 12\u001b[0;31m     \u001b[0mdata_tmp\u001b[0m \u001b[0;34m=\u001b[0m \u001b[0mread_frame\u001b[0m\u001b[0;34m(\u001b[0m\u001b[0mfname\u001b[0m\u001b[0;34m,\u001b[0m \u001b[0mchannel\u001b[0m\u001b[0;34m)\u001b[0m\u001b[0;34m\u001b[0m\u001b[0m\n\u001b[0m\u001b[1;32m     13\u001b[0m     \u001b[0mtimes\u001b[0m \u001b[0;34m=\u001b[0m \u001b[0mdata_tmp\u001b[0m\u001b[0;34m.\u001b[0m\u001b[0msample_times\u001b[0m\u001b[0;34m\u001b[0m\u001b[0m\n\u001b[1;32m     14\u001b[0m \u001b[0;34m\u001b[0m\u001b[0m\n",
      "\u001b[0;32m/home/jacob/anaconda3/envs/project_py2/lib/python2.7/site-packages/pycbc/frame/frame.pyc\u001b[0m in \u001b[0;36mread_frame\u001b[0;34m(location, channels, start_time, end_time, duration, check_integrity, sieve)\u001b[0m\n\u001b[1;32m    179\u001b[0m         \u001b[0mlocations\u001b[0m \u001b[0;34m=\u001b[0m \u001b[0;34m[\u001b[0m\u001b[0mlocation\u001b[0m\u001b[0;34m]\u001b[0m\u001b[0;34m\u001b[0m\u001b[0m\n\u001b[1;32m    180\u001b[0m \u001b[0;34m\u001b[0m\u001b[0m\n\u001b[0;32m--> 181\u001b[0;31m     \u001b[0mcum_cache\u001b[0m \u001b[0;34m=\u001b[0m \u001b[0mlocations_to_cache\u001b[0m\u001b[0;34m(\u001b[0m\u001b[0mlocations\u001b[0m\u001b[0;34m)\u001b[0m\u001b[0;34m\u001b[0m\u001b[0m\n\u001b[0m\u001b[1;32m    182\u001b[0m     \u001b[0;32mif\u001b[0m \u001b[0msieve\u001b[0m\u001b[0;34m:\u001b[0m\u001b[0;34m\u001b[0m\u001b[0m\n\u001b[1;32m    183\u001b[0m         \u001b[0mlogging\u001b[0m\u001b[0;34m.\u001b[0m\u001b[0minfo\u001b[0m\u001b[0;34m(\u001b[0m\u001b[0;34m\"Using frames that match regexp: %s\"\u001b[0m\u001b[0;34m,\u001b[0m \u001b[0msieve\u001b[0m\u001b[0;34m)\u001b[0m\u001b[0;34m\u001b[0m\u001b[0m\n",
      "\u001b[0;32m/home/jacob/anaconda3/envs/project_py2/lib/python2.7/site-packages/pycbc/frame/frame.pyc\u001b[0m in \u001b[0;36mlocations_to_cache\u001b[0;34m(locations, latest)\u001b[0m\n\u001b[1;32m    125\u001b[0m                 \u001b[0mcache\u001b[0m \u001b[0;34m=\u001b[0m \u001b[0mlal\u001b[0m\u001b[0;34m.\u001b[0m\u001b[0mCacheImport\u001b[0m\u001b[0;34m(\u001b[0m\u001b[0mfile_path\u001b[0m\u001b[0;34m)\u001b[0m\u001b[0;34m\u001b[0m\u001b[0m\n\u001b[1;32m    126\u001b[0m             \u001b[0;32melif\u001b[0m \u001b[0mfile_extension\u001b[0m \u001b[0;34m==\u001b[0m \u001b[0;34m\".gwf\"\u001b[0m \u001b[0;32mor\u001b[0m \u001b[0m_is_gwf\u001b[0m\u001b[0;34m(\u001b[0m\u001b[0mfile_path\u001b[0m\u001b[0;34m)\u001b[0m\u001b[0;34m:\u001b[0m\u001b[0;34m\u001b[0m\u001b[0m\n\u001b[0;32m--> 127\u001b[0;31m                 \u001b[0mcache\u001b[0m \u001b[0;34m=\u001b[0m \u001b[0mlalframe\u001b[0m\u001b[0;34m.\u001b[0m\u001b[0mFrOpen\u001b[0m\u001b[0;34m(\u001b[0m\u001b[0mstr\u001b[0m\u001b[0;34m(\u001b[0m\u001b[0mdir_name\u001b[0m\u001b[0;34m)\u001b[0m\u001b[0;34m,\u001b[0m \u001b[0mstr\u001b[0m\u001b[0;34m(\u001b[0m\u001b[0mfile_name\u001b[0m\u001b[0;34m)\u001b[0m\u001b[0;34m)\u001b[0m\u001b[0;34m.\u001b[0m\u001b[0mcache\u001b[0m\u001b[0;34m\u001b[0m\u001b[0m\n\u001b[0m\u001b[1;32m    128\u001b[0m             \u001b[0;32melse\u001b[0m\u001b[0;34m:\u001b[0m\u001b[0;34m\u001b[0m\u001b[0m\n\u001b[1;32m    129\u001b[0m                 \u001b[0;32mraise\u001b[0m \u001b[0mTypeError\u001b[0m\u001b[0;34m(\u001b[0m\u001b[0;34m\"Invalid location name\"\u001b[0m\u001b[0;34m)\u001b[0m\u001b[0;34m\u001b[0m\u001b[0m\n",
      "\u001b[0;31mRuntimeError\u001b[0m: RETURN: untrapped XLAL error"
     ]
    }
   ],
   "source": [
    "directory = 'Data/Raw_data'\n",
    "for filename in os.listdir(directory):\n",
    "\n",
    "    if 'H-H1' in filename:\n",
    "        channel = 'H1:GWOSC-4KHZ_R1_STRAIN'\n",
    "    else:\n",
    "        channel = 'L1:GWOSC-4KHZ_R1_STRAIN'\n",
    "    \n",
    "    fname = directory+'/'+filename\n",
    "    print(fname)\n",
    "    print(channel)\n",
    "    data_tmp = read_frame(fname, channel)\n",
    "    times = data_tmp.sample_times\n",
    "    \n",
    "    for i in range(128):\n",
    "        \n",
    "        filename_split = filename.split('-')\n",
    "        data_slice = data_tmp.time_slice(times[0]+i*32., times[0]+(1.+i)*32.)\n",
    "        data_slice.save('Data/Sliced_data/%s_%s_%s.npy' %(filename_split[0], filename_split[2], i+1))"
   ]
  },
  {
   "cell_type": "code",
   "execution_count": null,
   "metadata": {},
   "outputs": [],
   "source": []
  }
 ],
 "metadata": {
  "kernelspec": {
   "display_name": "Python 2",
   "language": "python",
   "name": "python2"
  },
  "language_info": {
   "codemirror_mode": {
    "name": "ipython",
    "version": 2
   },
   "file_extension": ".py",
   "mimetype": "text/x-python",
   "name": "python",
   "nbconvert_exporter": "python",
   "pygments_lexer": "ipython2",
   "version": "2.7.16"
  },
  "varInspector": {
   "cols": {
    "lenName": 16,
    "lenType": 16,
    "lenVar": 40
   },
   "kernels_config": {
    "python": {
     "delete_cmd_postfix": "",
     "delete_cmd_prefix": "del ",
     "library": "var_list.py",
     "varRefreshCmd": "print(var_dic_list())"
    },
    "r": {
     "delete_cmd_postfix": ") ",
     "delete_cmd_prefix": "rm(",
     "library": "var_list.r",
     "varRefreshCmd": "cat(var_dic_list()) "
    }
   },
   "types_to_exclude": [
    "module",
    "function",
    "builtin_function_or_method",
    "instance",
    "_Feature"
   ],
   "window_display": false
  }
 },
 "nbformat": 4,
 "nbformat_minor": 2
}
