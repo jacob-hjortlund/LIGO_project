{
 "cells": [
  {
   "cell_type": "markdown",
   "metadata": {},
   "source": [
    "## Raw data import from GWOSC"
   ]
  },
  {
   "cell_type": "code",
   "execution_count": 1,
   "metadata": {
    "ExecuteTime": {
     "end_time": "2019-07-23T08:42:44.367909Z",
     "start_time": "2019-07-23T08:42:43.473018Z"
    }
   },
   "outputs": [],
   "source": [
    "import pandas as pd\n",
    "import wget\n",
    "import os\n",
    "from pycbc.frame import read_frame\n",
    "import scipy as sp"
   ]
  },
  {
   "cell_type": "code",
   "execution_count": 144,
   "metadata": {
    "ExecuteTime": {
     "end_time": "2019-07-23T12:48:25.976492Z",
     "start_time": "2019-07-23T12:48:25.963491Z"
    }
   },
   "outputs": [],
   "source": [
    "ifo = ['H', 'L']\n",
    "no_segments = 1450\n",
    "t_start = 1164643217 # Start of O2 run is at GPS time 1164556817\n",
    "t_stop = t_start + no_segments*4096 # End of 02 run is at GPS time 1187733618, or 5658 4096 s segments."
   ]
  },
  {
   "cell_type": "code",
   "execution_count": 145,
   "metadata": {
    "ExecuteTime": {
     "end_time": "2019-07-23T12:49:12.875457Z",
     "start_time": "2019-07-23T12:48:27.972107Z"
    }
   },
   "outputs": [
    {
     "name": "stdout",
     "output_type": "stream",
     "text": [
      "https://www.gw-openscience.org/archive/links/O2_4KHZ_R1/H1/1164643217/1170582417/html/\n",
      "https://www.gw-openscience.org/archive/links/O2_4KHZ_R1/L1/1164643217/1170582417/html/\n"
     ]
    }
   ],
   "source": [
    "df = {}\n",
    "\n",
    "for i in ifo:\n",
    "\n",
    "    url = 'https://www.gw-openscience.org/archive/links/O2_4KHZ_R1/%s1/%s/%s/html/' %(i, t_start, t_stop)\n",
    "    print(url)\n",
    "\n",
    "    df_tmp = pd.read_html(url, header=1)[0]\n",
    "\n",
    "    # Ensuring data quality and no injections\n",
    "    DATA = df_tmp['DATA'] >= 100\n",
    "    CAT1 = df_tmp['CBC_CAT1'] == 100\n",
    "    CAT2 = df_tmp['CBC_CAT2'] == 100\n",
    "    CAT3 = df_tmp['CBC_CAT3'] == 100\n",
    "    NO_CBC = df_tmp['NO_CBC_HW_INJ'] == 100\n",
    "    NO_BURST = df_tmp['NO_BURST_HW_INJ'] == 100\n",
    "    NO_DET = df_tmp['NO_DETCHAR_HW_INJ'] == 100\n",
    "    index = DATA & CAT1 & CAT2 & CAT3 & NO_CBC & NO_BURST & NO_DET\n",
    "\n",
    "    df[i] = df_tmp[index]\n",
    "    df[i] = df[i].reset_index(drop=True)\n",
    "\n",
    "# Find data segments from both detectors that uphold quality requirements\n",
    "df_concat = pd.concat([df['H'], df['L']])\n",
    "df_filtered = df_concat[df_concat.duplicated(subset='Unnamed: 0')]\n",
    "df_filtered = df_filtered.reset_index(drop=True)"
   ]
  },
  {
   "cell_type": "code",
   "execution_count": 148,
   "metadata": {
    "ExecuteTime": {
     "end_time": "2019-07-23T16:27:22.234945Z",
     "start_time": "2019-07-23T12:50:42.896133Z"
    }
   },
   "outputs": [
    {
     "name": "stdout",
     "output_type": "stream",
     "text": [
      "1\n",
      "2\n",
      "3\n",
      "4\n",
      "5\n",
      "6\n",
      "7\n",
      "8\n",
      "9\n",
      "10\n",
      "11\n",
      "12\n",
      "13\n",
      "14\n",
      "15\n",
      "16\n",
      "17\n",
      "18\n",
      "19\n",
      "20\n",
      "21\n",
      "22\n",
      "23\n",
      "24\n",
      "25\n",
      "26\n",
      "27\n",
      "28\n",
      "29\n",
      "30\n",
      "31\n",
      "32\n",
      "33\n",
      "34\n",
      "35\n",
      "36\n",
      "37\n",
      "38\n",
      "39\n",
      "40\n",
      "41\n",
      "42\n",
      "43\n",
      "44\n",
      "45\n",
      "46\n",
      "47\n",
      "48\n",
      "49\n",
      "50\n",
      "51\n",
      "52\n",
      "53\n",
      "54\n",
      "55\n",
      "56\n",
      "57\n",
      "58\n",
      "59\n",
      "60\n",
      "61\n",
      "62\n",
      "63\n",
      "64\n",
      "65\n",
      "66\n",
      "67\n",
      "68\n",
      "69\n",
      "70\n",
      "71\n",
      "72\n",
      "73\n",
      "74\n",
      "75\n",
      "76\n",
      "77\n",
      "78\n",
      "79\n",
      "80\n",
      "81\n",
      "82\n",
      "83\n",
      "84\n",
      "85\n",
      "86\n",
      "87\n",
      "88\n",
      "89\n",
      "90\n",
      "91\n",
      "92\n",
      "93\n",
      "94\n",
      "95\n",
      "96\n",
      "97\n",
      "98\n",
      "99\n",
      "100\n",
      "101\n",
      "102\n",
      "103\n",
      "104\n",
      "105\n",
      "106\n",
      "107\n",
      "108\n",
      "109\n",
      "110\n",
      "111\n",
      "112\n",
      "113\n",
      "114\n",
      "115\n",
      "116\n",
      "117\n",
      "118\n",
      "119\n",
      "120\n",
      "121\n",
      "122\n",
      "123\n",
      "124\n",
      "125\n",
      "126\n",
      "127\n",
      "128\n",
      "129\n",
      "130\n",
      "131\n",
      "132\n",
      "133\n",
      "134\n",
      "135\n",
      "136\n",
      "137\n",
      "138\n",
      "139\n",
      "140\n",
      "141\n",
      "142\n",
      "143\n",
      "144\n",
      "145\n",
      "146\n",
      "147\n",
      "148\n",
      "149\n",
      "150\n",
      "151\n",
      "152\n",
      "153\n",
      "154\n",
      "155\n",
      "156\n",
      "157\n",
      "158\n",
      "159\n",
      "160\n",
      "161\n",
      "162\n",
      "163\n",
      "164\n",
      "165\n",
      "166\n",
      "167\n",
      "168\n",
      "169\n",
      "170\n",
      "171\n",
      "172\n",
      "173\n",
      "174\n",
      "175\n",
      "176\n",
      "177\n",
      "178\n",
      "179\n",
      "180\n",
      "181\n"
     ]
    }
   ],
   "source": [
    "directory = '/media/jacob/GRAS2BackupV2/Waveform_test'\n",
    "\n",
    "prfx_strt = 1163919360\n",
    "prfx_diff = 256*4096\n",
    "prfx_no = 23\n",
    "prefixes = np.arange(prfx_strt, prfx_strt+prfx_no*prfx_diff, prfx_diff)\n",
    "\n",
    "j = 1\n",
    "\n",
    "for i in df_filtered['Unnamed: 0']:\n",
    "    \n",
    "    print(j)\n",
    "    j += 1\n",
    "    \n",
    "    prfx_sub = prefixes-i\n",
    "    prefix = prefixes[np.where(prfx_sub <= 0)[0][-1]]\n",
    "    \n",
    "    urlH = ('https://www.gw-openscience.org/archive/data/O2_4KHZ_R1/%s/H-H1_' %(prefix) +\n",
    "           'GWOSC_O2_4KHZ_R1-%s-4096.gwf' %(i))\n",
    "    urlL = ('https://www.gw-openscience.org/archive/data/O2_4KHZ_R1/%s/L-L1_' %(prefix) +\n",
    "           'GWOSC_O2_4KHZ_R1-%s-4096.gwf' %(i))\n",
    "    \n",
    "    wget.download(urlH, directory+'/Raw_data')\n",
    "    wget.download(urlL, directory+'/Raw_data')"
   ]
  },
  {
   "cell_type": "code",
   "execution_count": 149,
   "metadata": {
    "ExecuteTime": {
     "end_time": "2019-07-23T16:28:27.421682Z",
     "start_time": "2019-07-23T16:27:22.457575Z"
    }
   },
   "outputs": [
    {
     "name": "stdout",
     "output_type": "stream",
     "text": [
      "1\n",
      "/media/jacob/GRAS2BackupV2/Waveform_test/Raw_data/L-L1_GWOSC_O2_4KHZ_R1-1165144064-4096.gwf\n",
      "L1:GWOSC-4KHZ_R1_STRAIN\n",
      "2\n",
      "/media/jacob/GRAS2BackupV2/Waveform_test/Raw_data/H-H1_GWOSC_O2_4KHZ_R1-1164689408-4096.gwf\n",
      "H1:GWOSC-4KHZ_R1_STRAIN\n",
      "3\n",
      "/media/jacob/GRAS2BackupV2/Waveform_test/Raw_data/H-H1_GWOSC_O2_4KHZ_R1-1164693504-4096.gwf\n",
      "H1:GWOSC-4KHZ_R1_STRAIN\n",
      "4\n",
      "/media/jacob/GRAS2BackupV2/Waveform_test/Raw_data/H-H1_GWOSC_O2_4KHZ_R1-1164701696-4096.gwf\n",
      "H1:GWOSC-4KHZ_R1_STRAIN\n",
      "5\n",
      "/media/jacob/GRAS2BackupV2/Waveform_test/Raw_data/H-H1_GWOSC_O2_4KHZ_R1-1164705792-4096.gwf\n",
      "H1:GWOSC-4KHZ_R1_STRAIN\n",
      "6\n",
      "/media/jacob/GRAS2BackupV2/Waveform_test/Raw_data/H-H1_GWOSC_O2_4KHZ_R1-1164713984-4096.gwf\n",
      "H1:GWOSC-4KHZ_R1_STRAIN\n"
     ]
    },
    {
     "ename": "KeyboardInterrupt",
     "evalue": "",
     "output_type": "error",
     "traceback": [
      "\u001b[0;31m---------------------------------------------------------------------------\u001b[0m",
      "\u001b[0;31mKeyboardInterrupt\u001b[0m                         Traceback (most recent call last)",
      "\u001b[0;32m<ipython-input-149-23d7dc3c08c4>\u001b[0m in \u001b[0;36m<module>\u001b[0;34m()\u001b[0m\n\u001b[1;32m     14\u001b[0m     \u001b[0;32mprint\u001b[0m\u001b[0;34m(\u001b[0m\u001b[0mfname\u001b[0m\u001b[0;34m)\u001b[0m\u001b[0;34m\u001b[0m\u001b[0m\n\u001b[1;32m     15\u001b[0m     \u001b[0;32mprint\u001b[0m\u001b[0;34m(\u001b[0m\u001b[0mchannel\u001b[0m\u001b[0;34m)\u001b[0m\u001b[0;34m\u001b[0m\u001b[0m\n\u001b[0;32m---> 16\u001b[0;31m     \u001b[0mdata_tmp\u001b[0m \u001b[0;34m=\u001b[0m \u001b[0mread_frame\u001b[0m\u001b[0;34m(\u001b[0m\u001b[0mfname\u001b[0m\u001b[0;34m,\u001b[0m \u001b[0mchannel\u001b[0m\u001b[0;34m)\u001b[0m\u001b[0;34m\u001b[0m\u001b[0m\n\u001b[0m\u001b[1;32m     17\u001b[0m     \u001b[0mtimes\u001b[0m \u001b[0;34m=\u001b[0m \u001b[0mdata_tmp\u001b[0m\u001b[0;34m.\u001b[0m\u001b[0msample_times\u001b[0m\u001b[0;34m\u001b[0m\u001b[0m\n\u001b[1;32m     18\u001b[0m \u001b[0;34m\u001b[0m\u001b[0m\n",
      "\u001b[0;32m/home/jacob/anaconda3/envs/project_py2/lib/python2.7/site-packages/pycbc/frame/frame.pyc\u001b[0m in \u001b[0;36mread_frame\u001b[0;34m(location, channels, start_time, end_time, duration, check_integrity, sieve)\u001b[0m\n\u001b[1;32m    236\u001b[0m         \u001b[0;32mreturn\u001b[0m \u001b[0mall_data\u001b[0m\u001b[0;34m\u001b[0m\u001b[0m\n\u001b[1;32m    237\u001b[0m     \u001b[0;32melse\u001b[0m\u001b[0;34m:\u001b[0m\u001b[0;34m\u001b[0m\u001b[0m\n\u001b[0;32m--> 238\u001b[0;31m         \u001b[0;32mreturn\u001b[0m \u001b[0m_read_channel\u001b[0m\u001b[0;34m(\u001b[0m\u001b[0mchannels\u001b[0m\u001b[0;34m,\u001b[0m \u001b[0mstream\u001b[0m\u001b[0;34m,\u001b[0m \u001b[0mstart_time\u001b[0m\u001b[0;34m,\u001b[0m \u001b[0mduration\u001b[0m\u001b[0;34m)\u001b[0m\u001b[0;34m\u001b[0m\u001b[0m\n\u001b[0m\u001b[1;32m    239\u001b[0m \u001b[0;34m\u001b[0m\u001b[0m\n\u001b[1;32m    240\u001b[0m \u001b[0;32mdef\u001b[0m \u001b[0mdatafind_connection\u001b[0m\u001b[0;34m(\u001b[0m\u001b[0mserver\u001b[0m\u001b[0;34m=\u001b[0m\u001b[0mNone\u001b[0m\u001b[0;34m)\u001b[0m\u001b[0;34m:\u001b[0m\u001b[0;34m\u001b[0m\u001b[0m\n",
      "\u001b[0;32m/home/jacob/anaconda3/envs/project_py2/lib/python2.7/site-packages/pycbc/frame/frame.pyc\u001b[0m in \u001b[0;36m_read_channel\u001b[0;34m(channel, stream, start, duration)\u001b[0m\n\u001b[1;32m     74\u001b[0m \u001b[0;32mdef\u001b[0m \u001b[0m_read_channel\u001b[0m\u001b[0;34m(\u001b[0m\u001b[0mchannel\u001b[0m\u001b[0;34m,\u001b[0m \u001b[0mstream\u001b[0m\u001b[0;34m,\u001b[0m \u001b[0mstart\u001b[0m\u001b[0;34m,\u001b[0m \u001b[0mduration\u001b[0m\u001b[0;34m)\u001b[0m\u001b[0;34m:\u001b[0m\u001b[0;34m\u001b[0m\u001b[0m\n\u001b[1;32m     75\u001b[0m     \u001b[0;34m\"\"\" Get channel using lalframe \"\"\"\u001b[0m\u001b[0;34m\u001b[0m\u001b[0m\n\u001b[0;32m---> 76\u001b[0;31m     \u001b[0mchannel_type\u001b[0m \u001b[0;34m=\u001b[0m \u001b[0mlalframe\u001b[0m\u001b[0;34m.\u001b[0m\u001b[0mFrStreamGetTimeSeriesType\u001b[0m\u001b[0;34m(\u001b[0m\u001b[0mchannel\u001b[0m\u001b[0;34m,\u001b[0m \u001b[0mstream\u001b[0m\u001b[0;34m)\u001b[0m\u001b[0;34m\u001b[0m\u001b[0m\n\u001b[0m\u001b[1;32m     77\u001b[0m     \u001b[0mread_func\u001b[0m \u001b[0;34m=\u001b[0m \u001b[0m_fr_type_map\u001b[0m\u001b[0;34m[\u001b[0m\u001b[0mchannel_type\u001b[0m\u001b[0;34m]\u001b[0m\u001b[0;34m[\u001b[0m\u001b[0;36m0\u001b[0m\u001b[0;34m]\u001b[0m\u001b[0;34m\u001b[0m\u001b[0m\n\u001b[1;32m     78\u001b[0m     \u001b[0md_type\u001b[0m \u001b[0;34m=\u001b[0m \u001b[0m_fr_type_map\u001b[0m\u001b[0;34m[\u001b[0m\u001b[0mchannel_type\u001b[0m\u001b[0;34m]\u001b[0m\u001b[0;34m[\u001b[0m\u001b[0;36m1\u001b[0m\u001b[0;34m]\u001b[0m\u001b[0;34m\u001b[0m\u001b[0m\n",
      "\u001b[0;31mKeyboardInterrupt\u001b[0m: "
     ]
    }
   ],
   "source": [
    "j = 1\n",
    "\n",
    "for filename in os.listdir(directory+'/Raw_data'):\n",
    "    \n",
    "    print(j)\n",
    "    j += 1\n",
    "    \n",
    "    if 'H-H1' in filename:\n",
    "        channel = 'H1:GWOSC-4KHZ_R1_STRAIN'\n",
    "    else:\n",
    "        channel = 'L1:GWOSC-4KHZ_R1_STRAIN'\n",
    "    \n",
    "    fname = directory+'/Raw_data/'+filename\n",
    "    print(fname)\n",
    "    print(channel)\n",
    "    data_tmp = read_frame(fname, channel)\n",
    "    times = data_tmp.sample_times\n",
    "    \n",
    "    for i in range(128):\n",
    "        \n",
    "        filename_split = filename.split('-')\n",
    "        data_slice = data_tmp.time_slice(times[0]+i*32., times[0]+(1.+i)*32.)\n",
    "        data_slice.save(directory+'/Sliced_data/%s_%s_%s.npy' %(filename_split[0], filename_split[2], i+1))"
   ]
  },
  {
   "cell_type": "code",
   "execution_count": null,
   "metadata": {},
   "outputs": [],
   "source": []
  }
 ],
 "metadata": {
  "kernelspec": {
   "display_name": "Python 2",
   "language": "python",
   "name": "python2"
  },
  "language_info": {
   "codemirror_mode": {
    "name": "ipython",
    "version": 2
   },
   "file_extension": ".py",
   "mimetype": "text/x-python",
   "name": "python",
   "nbconvert_exporter": "python",
   "pygments_lexer": "ipython2",
   "version": "2.7.16"
  },
  "varInspector": {
   "cols": {
    "lenName": 16,
    "lenType": 16,
    "lenVar": 40
   },
   "kernels_config": {
    "python": {
     "delete_cmd_postfix": "",
     "delete_cmd_prefix": "del ",
     "library": "var_list.py",
     "varRefreshCmd": "print(var_dic_list())"
    },
    "r": {
     "delete_cmd_postfix": ") ",
     "delete_cmd_prefix": "rm(",
     "library": "var_list.r",
     "varRefreshCmd": "cat(var_dic_list()) "
    }
   },
   "types_to_exclude": [
    "module",
    "function",
    "builtin_function_or_method",
    "instance",
    "_Feature"
   ],
   "window_display": false
  }
 },
 "nbformat": 4,
 "nbformat_minor": 2
}
